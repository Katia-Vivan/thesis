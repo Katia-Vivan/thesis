{
 "cells": [
  {
   "cell_type": "code",
   "execution_count": 1,
   "id": "d55b31f61174dda5",
   "metadata": {
    "ExecuteTime": {
     "end_time": "2024-07-17T19:31:15.929605500Z",
     "start_time": "2024-07-17T19:31:15.903623Z"
    },
    "collapsed": false
   },
   "outputs": [],
   "source": [
    "%load_ext autoreload\n",
    "%autoreload 2"
   ]
  },
  {
   "cell_type": "code",
   "execution_count": 2,
   "id": "initial_id",
   "metadata": {
    "ExecuteTime": {
     "end_time": "2024-07-17T19:31:18.240728400Z",
     "start_time": "2024-07-17T19:31:15.929605500Z"
    },
    "collapsed": true
   },
   "outputs": [],
   "source": [
    "import pandas as pd\n",
    "tweets = pd.read_csv('resources/chatgpt.csv')"
   ]
  },
  {
   "cell_type": "code",
   "execution_count": 3,
   "id": "aebf9b2a5b2e7750",
   "metadata": {
    "ExecuteTime": {
     "end_time": "2024-07-17T19:31:18.282632Z",
     "start_time": "2024-07-17T19:31:18.241732100Z"
    },
    "collapsed": false
   },
   "outputs": [
    {
     "data": {
      "text/html": [
       "<div>\n",
       "<style scoped>\n",
       "    .dataframe tbody tr th:only-of-type {\n",
       "        vertical-align: middle;\n",
       "    }\n",
       "\n",
       "    .dataframe tbody tr th {\n",
       "        vertical-align: top;\n",
       "    }\n",
       "\n",
       "    .dataframe thead th {\n",
       "        text-align: right;\n",
       "    }\n",
       "</style>\n",
       "<table border=\"1\" class=\"dataframe\">\n",
       "  <thead>\n",
       "    <tr style=\"text-align: right;\">\n",
       "      <th></th>\n",
       "      <th>entities</th>\n",
       "      <th>referenced_tweets</th>\n",
       "      <th>text</th>\n",
       "      <th>created_at</th>\n",
       "      <th>edit_history_tweet_ids</th>\n",
       "      <th>author_id</th>\n",
       "      <th>id</th>\n",
       "      <th>withheld</th>\n",
       "    </tr>\n",
       "  </thead>\n",
       "  <tbody>\n",
       "    <tr>\n",
       "      <th>0</th>\n",
       "      <td>{'annotations': [{'start': 235, 'end': 237, 'p...</td>\n",
       "      <td>[{'type': 'replied_to', 'id': '163579010076741...</td>\n",
       "      <td>@cryptogems555 Invest in a currency that is de...</td>\n",
       "      <td>2023-03-14T23:59:11.000Z</td>\n",
       "      <td>['1635792723268497408']</td>\n",
       "      <td>1566208289058295813</td>\n",
       "      <td>1635792723268497408</td>\n",
       "      <td>NaN</td>\n",
       "    </tr>\n",
       "    <tr>\n",
       "      <th>1</th>\n",
       "      <td>{'annotations': [{'start': 33, 'end': 39, 'pro...</td>\n",
       "      <td>NaN</td>\n",
       "      <td>While having all the hope around chatGPT lets ...</td>\n",
       "      <td>2023-03-14T23:58:47.000Z</td>\n",
       "      <td>['1635792623972564992']</td>\n",
       "      <td>1617818893602398208</td>\n",
       "      <td>1635792623972564992</td>\n",
       "      <td>NaN</td>\n",
       "    </tr>\n",
       "    <tr>\n",
       "      <th>2</th>\n",
       "      <td>{'annotations': [{'start': 230, 'end': 232, 'p...</td>\n",
       "      <td>[{'type': 'replied_to', 'id': '163557271457965...</td>\n",
       "      <td>@IGDEFI1 Join the movement towards a more sust...</td>\n",
       "      <td>2023-03-14T23:58:46.000Z</td>\n",
       "      <td>['1635792616594763778']</td>\n",
       "      <td>1566208289058295813</td>\n",
       "      <td>1635792616594763778</td>\n",
       "      <td>NaN</td>\n",
       "    </tr>\n",
       "    <tr>\n",
       "      <th>3</th>\n",
       "      <td>{'annotations': [{'start': 56, 'end': 62, 'pro...</td>\n",
       "      <td>NaN</td>\n",
       "      <td>There's a snowstorm out so naturally, I decide...</td>\n",
       "      <td>2023-03-14T23:58:42.000Z</td>\n",
       "      <td>['1635792600916475904']</td>\n",
       "      <td>43531614</td>\n",
       "      <td>1635792600916475904</td>\n",
       "      <td>NaN</td>\n",
       "    </tr>\n",
       "    <tr>\n",
       "      <th>4</th>\n",
       "      <td>{'hashtags': [{'start': 211, 'end': 216, 'tag'...</td>\n",
       "      <td>[{'type': 'replied_to', 'id': '163562746728430...</td>\n",
       "      <td>@unclebobcrypto @Stablzone Invest in a currenc...</td>\n",
       "      <td>2023-03-14T23:58:04.000Z</td>\n",
       "      <td>['1635792443537850368']</td>\n",
       "      <td>1566208289058295813</td>\n",
       "      <td>1635792443537850368</td>\n",
       "      <td>NaN</td>\n",
       "    </tr>\n",
       "  </tbody>\n",
       "</table>\n",
       "</div>"
      ],
      "text/plain": [
       "                                            entities  \\\n",
       "0  {'annotations': [{'start': 235, 'end': 237, 'p...   \n",
       "1  {'annotations': [{'start': 33, 'end': 39, 'pro...   \n",
       "2  {'annotations': [{'start': 230, 'end': 232, 'p...   \n",
       "3  {'annotations': [{'start': 56, 'end': 62, 'pro...   \n",
       "4  {'hashtags': [{'start': 211, 'end': 216, 'tag'...   \n",
       "\n",
       "                                   referenced_tweets  \\\n",
       "0  [{'type': 'replied_to', 'id': '163579010076741...   \n",
       "1                                                NaN   \n",
       "2  [{'type': 'replied_to', 'id': '163557271457965...   \n",
       "3                                                NaN   \n",
       "4  [{'type': 'replied_to', 'id': '163562746728430...   \n",
       "\n",
       "                                                text  \\\n",
       "0  @cryptogems555 Invest in a currency that is de...   \n",
       "1  While having all the hope around chatGPT lets ...   \n",
       "2  @IGDEFI1 Join the movement towards a more sust...   \n",
       "3  There's a snowstorm out so naturally, I decide...   \n",
       "4  @unclebobcrypto @Stablzone Invest in a currenc...   \n",
       "\n",
       "                 created_at   edit_history_tweet_ids            author_id  \\\n",
       "0  2023-03-14T23:59:11.000Z  ['1635792723268497408']  1566208289058295813   \n",
       "1  2023-03-14T23:58:47.000Z  ['1635792623972564992']  1617818893602398208   \n",
       "2  2023-03-14T23:58:46.000Z  ['1635792616594763778']  1566208289058295813   \n",
       "3  2023-03-14T23:58:42.000Z  ['1635792600916475904']             43531614   \n",
       "4  2023-03-14T23:58:04.000Z  ['1635792443537850368']  1566208289058295813   \n",
       "\n",
       "                    id withheld  \n",
       "0  1635792723268497408      NaN  \n",
       "1  1635792623972564992      NaN  \n",
       "2  1635792616594763778      NaN  \n",
       "3  1635792600916475904      NaN  \n",
       "4  1635792443537850368      NaN  "
      ]
     },
     "execution_count": 3,
     "metadata": {},
     "output_type": "execute_result"
    }
   ],
   "source": [
    "tweets.head()"
   ]
  },
  {
   "cell_type": "code",
   "execution_count": 4,
   "id": "8629d20816b68d17",
   "metadata": {
    "ExecuteTime": {
     "end_time": "2024-07-17T19:31:18.329560100Z",
     "start_time": "2024-07-17T19:31:18.277386600Z"
    },
    "collapsed": false
   },
   "outputs": [
    {
     "data": {
      "text/plain": [
       "(151418, 8)"
      ]
     },
     "execution_count": 4,
     "metadata": {},
     "output_type": "execute_result"
    }
   ],
   "source": [
    "tweets_filtered = tweets.copy() \n",
    "tweets_filtered.shape"
   ]
  },
  {
   "cell_type": "code",
   "execution_count": 5,
   "id": "fd1b55b3fbc3b66",
   "metadata": {
    "ExecuteTime": {
     "end_time": "2024-07-17T19:31:19.523065900Z",
     "start_time": "2024-07-17T19:31:18.317428400Z"
    },
    "collapsed": false
   },
   "outputs": [
    {
     "name": "stderr",
     "output_type": "stream",
     "text": [
      "[nltk_data] Downloading package words to\n",
      "[nltk_data]     C:\\Users\\Utente\\AppData\\Roaming\\nltk_data...\n",
      "[nltk_data]   Package words is already up-to-date!\n",
      "[nltk_data] Downloading package stopwords to\n",
      "[nltk_data]     C:\\Users\\Utente\\AppData\\Roaming\\nltk_data...\n",
      "[nltk_data]   Package stopwords is already up-to-date!\n",
      "[nltk_data] Downloading package wordnet to\n",
      "[nltk_data]     C:\\Users\\Utente\\AppData\\Roaming\\nltk_data...\n",
      "[nltk_data]   Package wordnet is already up-to-date!\n",
      "[nltk_data] Downloading package omw-1.4 to\n",
      "[nltk_data]     C:\\Users\\Utente\\AppData\\Roaming\\nltk_data...\n",
      "[nltk_data]   Package omw-1.4 is already up-to-date!\n",
      "[nltk_data] Downloading package averaged_perceptron_tagger to\n",
      "[nltk_data]     C:\\Users\\Utente\\AppData\\Roaming\\nltk_data...\n",
      "[nltk_data]   Package averaged_perceptron_tagger is already up-to-\n",
      "[nltk_data]       date!\n"
     ]
    }
   ],
   "source": [
    "import re\n",
    "import nltk\n",
    "\n",
    "nltk.download('words')\n",
    "words = set(nltk.corpus.words.words())\n",
    "nltk.download('stopwords')\n",
    "stop_words = nltk.corpus.stopwords.words(\"english\")\n",
    "nltk.download('wordnet')\n",
    "from nltk.corpus import wordnet as wn\n",
    "from nltk.stem.wordnet import WordNetLemmatizer\n",
    "nltk.download('omw-1.4')\n",
    "nltk.download('averaged_perceptron_tagger')\n",
    "from collections import defaultdict\n",
    "tag_map = defaultdict(lambda : wn.NOUN)\n",
    "tag_map['J'] = wn.ADJ\n",
    "tag_map['V'] = wn.VERB\n",
    "tag_map['R'] = wn.ADV"
   ]
  },
  {
   "cell_type": "markdown",
   "id": "26d5080d4428cb0d",
   "metadata": {
    "collapsed": false
   },
   "source": [
    "<p> Definisco un metodo per pulire i tweet da eventuali hashtag, menzioni, link e stop word"
   ]
  },
  {
   "cell_type": "code",
   "execution_count": 6,
   "id": "a589d5dc77432c4a",
   "metadata": {
    "ExecuteTime": {
     "end_time": "2024-07-17T19:31:19.568402600Z",
     "start_time": "2024-07-17T19:31:19.524070600Z"
    },
    "collapsed": false
   },
   "outputs": [],
   "source": [
    "def cleaner(tweet):\n",
    "    tweet = re.sub(\"@[A-Za-z0-9]+\",\"\",tweet) #rimozione menzioni\n",
    "    tweet = re.sub(\"#[A-Za-z0-9]+\", \"\",tweet) # rimozione hashtag\n",
    "    tweet = re.sub(r\"(?:\\@|http?\\://|https?\\://|www)\\S+\", \"\", tweet) # rimozione link\n",
    "    tweet = \" \".join(tweet.split())\n",
    "    tweet = \" \".join(w for w in nltk.wordpunct_tokenize(tweet) if w.lower() in words and not w.lower() in stop_words)\n",
    "     #rimozione stop words\n",
    "    lemma_function = WordNetLemmatizer()\n",
    "    tweet = \" \".join(lemma_function.lemmatize(token, tag_map[tag[0]]) for token, tag in nltk.pos_tag(nltk.wordpunct_tokenize(tweet)))\n",
    "    tweet = str.lower(tweet)\n",
    "    return tweet"
   ]
  },
  {
   "cell_type": "code",
   "execution_count": 7,
   "id": "177f9dcbe9f9848f",
   "metadata": {
    "ExecuteTime": {
     "end_time": "2024-07-17T19:32:38.055935500Z",
     "start_time": "2024-07-17T19:31:19.568402600Z"
    },
    "collapsed": false
   },
   "outputs": [
    {
     "data": {
      "text/html": [
       "<div>\n",
       "<style scoped>\n",
       "    .dataframe tbody tr th:only-of-type {\n",
       "        vertical-align: middle;\n",
       "    }\n",
       "\n",
       "    .dataframe tbody tr th {\n",
       "        vertical-align: top;\n",
       "    }\n",
       "\n",
       "    .dataframe thead th {\n",
       "        text-align: right;\n",
       "    }\n",
       "</style>\n",
       "<table border=\"1\" class=\"dataframe\">\n",
       "  <thead>\n",
       "    <tr style=\"text-align: right;\">\n",
       "      <th></th>\n",
       "      <th>entities</th>\n",
       "      <th>referenced_tweets</th>\n",
       "      <th>text</th>\n",
       "      <th>created_at</th>\n",
       "      <th>edit_history_tweet_ids</th>\n",
       "      <th>author_id</th>\n",
       "      <th>id</th>\n",
       "      <th>withheld</th>\n",
       "      <th>clean_text</th>\n",
       "    </tr>\n",
       "  </thead>\n",
       "  <tbody>\n",
       "    <tr>\n",
       "      <th>0</th>\n",
       "      <td>{'annotations': [{'start': 235, 'end': 237, 'p...</td>\n",
       "      <td>[{'type': 'replied_to', 'id': '163579010076741...</td>\n",
       "      <td>@cryptogems555 Invest in a currency that is de...</td>\n",
       "      <td>2023-03-14T23:59:11.000Z</td>\n",
       "      <td>['1635792723268497408']</td>\n",
       "      <td>1566208289058295813</td>\n",
       "      <td>1635792723268497408</td>\n",
       "      <td>NaN</td>\n",
       "      <td>invest currency design offer great flexibility...</td>\n",
       "    </tr>\n",
       "    <tr>\n",
       "      <th>1</th>\n",
       "      <td>{'annotations': [{'start': 33, 'end': 39, 'pro...</td>\n",
       "      <td>NaN</td>\n",
       "      <td>While having all the hope around chatGPT lets ...</td>\n",
       "      <td>2023-03-14T23:58:47.000Z</td>\n",
       "      <td>['1635792623972564992']</td>\n",
       "      <td>1617818893602398208</td>\n",
       "      <td>1635792623972564992</td>\n",
       "      <td>NaN</td>\n",
       "      <td>hope around forget</td>\n",
       "    </tr>\n",
       "    <tr>\n",
       "      <th>2</th>\n",
       "      <td>{'annotations': [{'start': 230, 'end': 232, 'p...</td>\n",
       "      <td>[{'type': 'replied_to', 'id': '163557271457965...</td>\n",
       "      <td>@IGDEFI1 Join the movement towards a more sust...</td>\n",
       "      <td>2023-03-14T23:58:46.000Z</td>\n",
       "      <td>['1635792616594763778']</td>\n",
       "      <td>1566208289058295813</td>\n",
       "      <td>1635792616594763778</td>\n",
       "      <td>NaN</td>\n",
       "      <td>join movement towards sustainable responsible ...</td>\n",
       "    </tr>\n",
       "    <tr>\n",
       "      <th>3</th>\n",
       "      <td>{'annotations': [{'start': 56, 'end': 62, 'pro...</td>\n",
       "      <td>NaN</td>\n",
       "      <td>There's a snowstorm out so naturally, I decide...</td>\n",
       "      <td>2023-03-14T23:58:42.000Z</td>\n",
       "      <td>['1635792600916475904']</td>\n",
       "      <td>43531614</td>\n",
       "      <td>1635792600916475904</td>\n",
       "      <td>NaN</td>\n",
       "      <td>snowstorm naturally decide ask</td>\n",
       "    </tr>\n",
       "    <tr>\n",
       "      <th>4</th>\n",
       "      <td>{'hashtags': [{'start': 211, 'end': 216, 'tag'...</td>\n",
       "      <td>[{'type': 'replied_to', 'id': '163562746728430...</td>\n",
       "      <td>@unclebobcrypto @Stablzone Invest in a currenc...</td>\n",
       "      <td>2023-03-14T23:58:04.000Z</td>\n",
       "      <td>['1635792443537850368']</td>\n",
       "      <td>1566208289058295813</td>\n",
       "      <td>1635792443537850368</td>\n",
       "      <td>NaN</td>\n",
       "      <td>invest currency secure private confidential wa...</td>\n",
       "    </tr>\n",
       "  </tbody>\n",
       "</table>\n",
       "</div>"
      ],
      "text/plain": [
       "                                            entities  \\\n",
       "0  {'annotations': [{'start': 235, 'end': 237, 'p...   \n",
       "1  {'annotations': [{'start': 33, 'end': 39, 'pro...   \n",
       "2  {'annotations': [{'start': 230, 'end': 232, 'p...   \n",
       "3  {'annotations': [{'start': 56, 'end': 62, 'pro...   \n",
       "4  {'hashtags': [{'start': 211, 'end': 216, 'tag'...   \n",
       "\n",
       "                                   referenced_tweets  \\\n",
       "0  [{'type': 'replied_to', 'id': '163579010076741...   \n",
       "1                                                NaN   \n",
       "2  [{'type': 'replied_to', 'id': '163557271457965...   \n",
       "3                                                NaN   \n",
       "4  [{'type': 'replied_to', 'id': '163562746728430...   \n",
       "\n",
       "                                                text  \\\n",
       "0  @cryptogems555 Invest in a currency that is de...   \n",
       "1  While having all the hope around chatGPT lets ...   \n",
       "2  @IGDEFI1 Join the movement towards a more sust...   \n",
       "3  There's a snowstorm out so naturally, I decide...   \n",
       "4  @unclebobcrypto @Stablzone Invest in a currenc...   \n",
       "\n",
       "                 created_at   edit_history_tweet_ids            author_id  \\\n",
       "0  2023-03-14T23:59:11.000Z  ['1635792723268497408']  1566208289058295813   \n",
       "1  2023-03-14T23:58:47.000Z  ['1635792623972564992']  1617818893602398208   \n",
       "2  2023-03-14T23:58:46.000Z  ['1635792616594763778']  1566208289058295813   \n",
       "3  2023-03-14T23:58:42.000Z  ['1635792600916475904']             43531614   \n",
       "4  2023-03-14T23:58:04.000Z  ['1635792443537850368']  1566208289058295813   \n",
       "\n",
       "                    id withheld  \\\n",
       "0  1635792723268497408      NaN   \n",
       "1  1635792623972564992      NaN   \n",
       "2  1635792616594763778      NaN   \n",
       "3  1635792600916475904      NaN   \n",
       "4  1635792443537850368      NaN   \n",
       "\n",
       "                                          clean_text  \n",
       "0  invest currency design offer great flexibility...  \n",
       "1                                 hope around forget  \n",
       "2  join movement towards sustainable responsible ...  \n",
       "3                     snowstorm naturally decide ask  \n",
       "4  invest currency secure private confidential wa...  "
      ]
     },
     "execution_count": 7,
     "metadata": {},
     "output_type": "execute_result"
    }
   ],
   "source": [
    "tweets_filtered[\"clean_text\"] = tweets_filtered[\"text\"].map(cleaner)\n",
    "tweets_filtered.head()"
   ]
  },
  {
   "cell_type": "markdown",
   "id": "2ded9b1d57210995",
   "metadata": {
    "collapsed": false
   },
   "source": [
    "### Settaggio Vader"
   ]
  },
  {
   "cell_type": "code",
   "execution_count": 8,
   "id": "9a788d9745b04070",
   "metadata": {
    "ExecuteTime": {
     "end_time": "2024-07-17T19:32:38.176888800Z",
     "start_time": "2024-07-17T19:32:38.055935500Z"
    },
    "collapsed": false
   },
   "outputs": [
    {
     "name": "stderr",
     "output_type": "stream",
     "text": [
      "[nltk_data] Downloading package vader_lexicon to\n",
      "[nltk_data]     C:\\Users\\Utente\\AppData\\Roaming\\nltk_data...\n",
      "[nltk_data]   Package vader_lexicon is already up-to-date!\n"
     ]
    }
   ],
   "source": [
    "from nltk.sentiment import SentimentIntensityAnalyzer\n",
    "from tqdm.notebook import tqdm\n",
    "\n",
    "nltk.download('vader_lexicon')\n",
    "sia = SentimentIntensityAnalyzer()"
   ]
  },
  {
   "cell_type": "markdown",
   "id": "a6053e4e6e1cd169",
   "metadata": {
    "collapsed": false
   },
   "source": [
    "### Settaggio Roberta"
   ]
  },
  {
   "cell_type": "code",
   "execution_count": 9,
   "id": "902429ae9ca07b51",
   "metadata": {
    "ExecuteTime": {
     "end_time": "2024-07-17T19:32:41.820498800Z",
     "start_time": "2024-07-17T19:32:38.174569300Z"
    },
    "collapsed": false
   },
   "outputs": [],
   "source": [
    "from transformers import AutoTokenizer, AutoModelForSequenceClassification\n",
    "from scipy.special import softmax\n",
    "MODEL = f\"cardiffnlp/twitter-roberta-base-sentiment\"\n",
    "tokenizer = AutoTokenizer.from_pretrained(MODEL)\n",
    "model = AutoModelForSequenceClassification.from_pretrained(MODEL)"
   ]
  },
  {
   "cell_type": "code",
   "execution_count": 10,
   "id": "9625aaec4f321350",
   "metadata": {
    "ExecuteTime": {
     "end_time": "2024-07-17T19:32:41.922507100Z",
     "start_time": "2024-07-17T19:32:41.821583800Z"
    },
    "collapsed": false
   },
   "outputs": [],
   "source": [
    "# Esecuzione di Roberta\n",
    "def polarity_scores_roberta(text):   \n",
    "    encoded_text = tokenizer(text, return_tensors=\"pt\")\n",
    "    output = model(**encoded_text)\n",
    "    scores = output[0][0].detach().numpy()\n",
    "    scores = softmax(scores)\n",
    "    scores_dict = {\n",
    "        'negative': scores[0],\n",
    "        'neutral': scores[1],\n",
    "        'positive': scores[2]\n",
    "    }\n",
    "    return scores_dict"
   ]
  },
  {
   "cell_type": "markdown",
   "id": "5404c62d43c420ea",
   "metadata": {
    "collapsed": false
   },
   "source": [
    "<p> Eseguo la sentiment analysis con entrambi i modelli </p>"
   ]
  },
  {
   "cell_type": "code",
   "execution_count": 11,
   "id": "253b5f6160f1fd1f",
   "metadata": {
    "ExecuteTime": {
     "end_time": "2024-07-17T20:31:57.914582500Z",
     "start_time": "2024-07-17T19:32:41.923565Z"
    },
    "collapsed": false
   },
   "outputs": [
    {
     "data": {
      "application/vnd.jupyter.widget-view+json": {
       "model_id": "7fa3ea59f9ce4545a22223438236efa3",
       "version_major": 2,
       "version_minor": 0
      },
      "text/plain": [
       "  0%|          | 0/151418 [00:00<?, ?it/s]"
      ]
     },
     "metadata": {},
     "output_type": "display_data"
    }
   ],
   "source": [
    "vader_results = {}\n",
    "roberta_results = {}\n",
    "for i, row in tqdm(tweets_filtered.iterrows(), total=len(tweets_filtered)):\n",
    "    text = row['clean_text']\n",
    "    vader_results[i] = sia.polarity_scores(text)\n",
    "    roberta_results[i] = polarity_scores_roberta(text)"
   ]
  },
  {
   "cell_type": "code",
   "execution_count": 12,
   "id": "6b0a9b9d1b02d32",
   "metadata": {
    "ExecuteTime": {
     "end_time": "2024-07-17T20:31:59.198168400Z",
     "start_time": "2024-07-17T20:31:57.915585700Z"
    },
    "collapsed": false
   },
   "outputs": [
    {
     "data": {
      "text/html": [
       "<div>\n",
       "<style scoped>\n",
       "    .dataframe tbody tr th:only-of-type {\n",
       "        vertical-align: middle;\n",
       "    }\n",
       "\n",
       "    .dataframe tbody tr th {\n",
       "        vertical-align: top;\n",
       "    }\n",
       "\n",
       "    .dataframe thead th {\n",
       "        text-align: right;\n",
       "    }\n",
       "</style>\n",
       "<table border=\"1\" class=\"dataframe\">\n",
       "  <thead>\n",
       "    <tr style=\"text-align: right;\">\n",
       "      <th></th>\n",
       "      <th>negative</th>\n",
       "      <th>neutral</th>\n",
       "      <th>positive</th>\n",
       "    </tr>\n",
       "  </thead>\n",
       "  <tbody>\n",
       "    <tr>\n",
       "      <th>0</th>\n",
       "      <td>0.003134</td>\n",
       "      <td>0.107320</td>\n",
       "      <td>0.889546</td>\n",
       "    </tr>\n",
       "    <tr>\n",
       "      <th>1</th>\n",
       "      <td>0.075790</td>\n",
       "      <td>0.631965</td>\n",
       "      <td>0.292245</td>\n",
       "    </tr>\n",
       "    <tr>\n",
       "      <th>2</th>\n",
       "      <td>0.003342</td>\n",
       "      <td>0.298163</td>\n",
       "      <td>0.698495</td>\n",
       "    </tr>\n",
       "    <tr>\n",
       "      <th>3</th>\n",
       "      <td>0.106028</td>\n",
       "      <td>0.843135</td>\n",
       "      <td>0.050837</td>\n",
       "    </tr>\n",
       "    <tr>\n",
       "      <th>4</th>\n",
       "      <td>0.025051</td>\n",
       "      <td>0.858097</td>\n",
       "      <td>0.116853</td>\n",
       "    </tr>\n",
       "  </tbody>\n",
       "</table>\n",
       "</div>"
      ],
      "text/plain": [
       "   negative   neutral  positive\n",
       "0  0.003134  0.107320  0.889546\n",
       "1  0.075790  0.631965  0.292245\n",
       "2  0.003342  0.298163  0.698495\n",
       "3  0.106028  0.843135  0.050837\n",
       "4  0.025051  0.858097  0.116853"
      ]
     },
     "execution_count": 12,
     "metadata": {},
     "output_type": "execute_result"
    }
   ],
   "source": [
    "robertas = pd.DataFrame(roberta_results).T\n",
    "robertas.head()"
   ]
  },
  {
   "cell_type": "markdown",
   "id": "8fc3b2da97896ead",
   "metadata": {
    "collapsed": false
   },
   "source": [
    "<p> Inserisco nel dizionario con i risultati ottenuti dalla sentiment analysis con Roberta: in base all'opinione relativa ad un tweet lo aggiungo nell'array corrispondente </p>"
   ]
  },
  {
   "cell_type": "code",
   "execution_count": 13,
   "id": "aaffbe66c38cfe98",
   "metadata": {
    "ExecuteTime": {
     "end_time": "2024-07-17T20:32:00.086086800Z",
     "start_time": "2024-07-17T20:31:59.196151800Z"
    },
    "collapsed": false
   },
   "outputs": [
    {
     "name": "stdout",
     "output_type": "stream",
     "text": [
      "Negative opinions count: 8835\n",
      "Neutral opinions count: 108588\n",
      "Positive opinions count: 33995\n",
      "Total opinions count: 151418\n"
     ]
    }
   ],
   "source": [
    "scores_dictionary = {'negative': [], 'neutral': [], 'positive': []}\n",
    "def get_scores_count(robertas, scores_dictionary):\n",
    "    for i in range(len(robertas.values)):\n",
    "        if robertas.values[i][0] > robertas.values[i][1] and robertas.values[i][0] > robertas.values[i][2]:\n",
    "            scores_dictionary['negative'].append(robertas.values[i][0])\n",
    "        elif robertas.values[i][1] > robertas.values[i][0] and robertas.values[i][1] > robertas.values[i][2]:\n",
    "            scores_dictionary['neutral'].append(robertas.values[i][1])\n",
    "        elif robertas.values[i][2] > robertas.values[i][0] and robertas.values[i][2] > robertas.values[i][1]:\n",
    "            scores_dictionary['positive'].append(robertas.values[i][2])\n",
    "    \n",
    "get_scores_count(robertas, scores_dictionary)\n",
    "print('Negative opinions count: {}'.format(len(scores_dictionary['negative']))) \n",
    "print('Neutral opinions count: {}'.format(str(len(scores_dictionary['neutral'])))) \n",
    "print('Positive opinions count: {}'.format(len(scores_dictionary['positive']))) \n",
    "print('Total opinions count: {}'.format(len(scores_dictionary['negative']) + len(scores_dictionary['neutral']) + len(scores_dictionary['positive'])))"
   ]
  },
  {
   "cell_type": "markdown",
   "id": "f1b17d9939480f1d",
   "metadata": {
    "collapsed": false
   },
   "source": [
    "<p> Definisco tre metodi per ottenere le opinioni positive, negative e neutre dei risultati di Vader e poi li eseguo per popolare le tre liste </p>"
   ]
  },
  {
   "cell_type": "code",
   "execution_count": 14,
   "id": "6ea818ffe4f876a3",
   "metadata": {
    "ExecuteTime": {
     "end_time": "2024-07-17T20:32:01.454289300Z",
     "start_time": "2024-07-17T20:32:00.083077Z"
    },
    "collapsed": false
   },
   "outputs": [
    {
     "name": "stdout",
     "output_type": "stream",
     "text": [
      "Positive opinions count: 79348\n",
      "Negative opinions count: 15030\n",
      "Neutral opinions count: 57040\n",
      "Total scores = 151418\n"
     ]
    }
   ],
   "source": [
    "import matplotlib.pyplot as plt\n",
    "import numpy as np\n",
    "\n",
    "vaders = pd.DataFrame(vader_results).T \n",
    "vaders['compound'].head()\n",
    "scores = list(vaders['compound'])\n",
    "\n",
    "def get_pos(lst):\n",
    "    return [x for x in lst if x > 0]\n",
    "def get_neg(lst):\n",
    "    return [x for x in lst if x < 0]\n",
    "def get_neu(lst):\n",
    "    return [x for x in lst if x == 0]\n",
    "positive_scores = get_pos(scores)\n",
    "negative_scores = get_neg(scores)\n",
    "neutral_scores = get_neu(scores)\n",
    "average_positive_score = np.average(positive_scores)\n",
    "average_negative_score = np.average(negative_scores)\n",
    "average_neutral_score = np.average(neutral_scores)\n",
    "print('Positive opinions count: {}'.format(len(positive_scores)))\n",
    "print('Negative opinions count: {}'.format(len(negative_scores)))\n",
    "print('Neutral opinions count: {}'.format(len(neutral_scores)))\n",
    "total_scores = len(positive_scores) + len(negative_scores) + len(neutral_scores)\n",
    "print('Total scores = {}'.format(total_scores))"
   ]
  },
  {
   "cell_type": "code",
   "execution_count": 15,
   "id": "7221fbd749bb03b5",
   "metadata": {
    "ExecuteTime": {
     "end_time": "2024-07-17T20:32:01.539096700Z",
     "start_time": "2024-07-17T20:32:01.450267900Z"
    },
    "collapsed": false
   },
   "outputs": [],
   "source": [
    "def plot_vaders_chart():\n",
    "    ypoints = (np.average(scores), average_positive_score, average_negative_score, average_neutral_score)\n",
    "    xpoints = np.arange(len(ypoints))\n",
    "    xtext = (0, 1, 1.35, 2)\n",
    "    ytext = ((ypoints[0] + 0.05), ypoints[1] - 0.05, ypoints[2] + 0.05, ypoints[3] + 0.05)\n",
    "    labels = ['average score', 'average positive score', 'average negative score', 'average neutral score']\n",
    "    plt.scatter(range(len(ypoints)), ypoints)\n",
    "    for i in range(len(ypoints)):\n",
    "        plt.annotate(labels[i], xy = [xpoints[i], ypoints[i]], xytext = (xtext[i], ytext[i]))\n",
    "    \n",
    "    plt.ylabel('Sentiment analysis score')\n",
    "    plt.tick_params(axis='x', which='both', bottom=False, top=False, labelbottom=False)\n",
    "    plt.show()\n",
    "\n",
    "def plot_vaders_count_chart():\n",
    "    fig, ax = plt.subplots()\n",
    "    labels = ['Positive tweets', 'Negative tweets', 'Neutral tweets']\n",
    "    counts = (len(positive_scores), len(negative_scores), len(neutral_scores))\n",
    "    colours = ['green', 'red', 'blue']\n",
    "    ax.bar(labels, counts, color=colours)\n",
    "    plt.show()"
   ]
  },
  {
   "cell_type": "code",
   "execution_count": 16,
   "id": "51da68c10add9ec5",
   "metadata": {
    "ExecuteTime": {
     "end_time": "2024-07-17T20:32:01.740270300Z",
     "start_time": "2024-07-17T20:32:01.539096700Z"
    },
    "collapsed": false
   },
   "outputs": [
    {
     "data": {
      "image/png": "[encoded data removed]",
      "text/plain": [
       "<Figure size 640x480 with 1 Axes>"
      ]
     },
     "metadata": {},
     "output_type": "display_data"
    },
    {
     "data": {
      "image/png": "[encoded data removed]",
      "text/plain": [
       "<Figure size 640x480 with 1 Axes>"
      ]
     },
     "metadata": {},
     "output_type": "display_data"
    }
   ],
   "source": [
    "plot_vaders_chart()\n",
    "plot_vaders_count_chart()"
   ]
  },
  {
   "cell_type": "markdown",
   "id": "4a028c2845697bec",
   "metadata": {
    "collapsed": false
   },
   "source": [
    "# Roberta model"
   ]
  },
  {
   "cell_type": "code",
   "execution_count": 18,
   "id": "b081dcae34c4faa2",
   "metadata": {
    "ExecuteTime": {
     "end_time": "2024-07-18T10:22:23.196033200Z",
     "start_time": "2024-07-18T10:22:22.957389300Z"
    },
    "collapsed": false
   },
   "outputs": [
    {
     "name": "stdout",
     "output_type": "stream",
     "text": [
      "Average negative score: 0.12641432881355286\n",
      "Average neutral score: 0.583874523639679\n",
      "Average positive score: 0.28971123695373535\n"
     ]
    },
    {
     "data": {
      "image/png": "[encoded data removed]",
      "text/plain": [
       "<Figure size 640x480 with 1 Axes>"
      ]
     },
     "metadata": {},
     "output_type": "display_data"
    },
    {
     "data": {
      "image/png": "[encoded data removed]",
      "text/plain": [
       "<Figure size 640x480 with 1 Axes>"
      ]
     },
     "metadata": {},
     "output_type": "display_data"
    }
   ],
   "source": [
    "def plot_roberta_chart():\n",
    "    ypoints = (np.average(robertas.negative), np.average(robertas.neutral), np.average(robertas.positive))\n",
    "    xpoints = np.arange(len(ypoints))\n",
    "    xtext = (0, 1, 1.35)\n",
    "    ytext = (ypoints[0] + 0.02, ypoints[1] - 0.03, ypoints[2] + 0.02)\n",
    "    labels = ['average negative score', 'average neutral score', 'average positive score']\n",
    "    plt.scatter(range(len(ypoints)), ypoints)\n",
    "    for i in range(len(ypoints)):\n",
    "        plt.annotate(labels[i], xy = [xpoints[i], ypoints[i]], xytext = (xtext[i], ytext[i]))\n",
    "    \n",
    "    plt.ylabel('Sentiment analysis score')\n",
    "    plt.tick_params(axis='x', which='both', bottom=False, top=False, labelbottom=False)\n",
    "    plt.show()\n",
    "\n",
    "def plot_roberta_count_chart():\n",
    "    fig, ax = plt.subplots()\n",
    "    labels = ['Negative tweets', 'Neutral tweets', 'Positive tweets']\n",
    "    counts = (len(scores_dictionary['negative']), len(scores_dictionary['neutral']), len(scores_dictionary['positive']))\n",
    "    colours = ['red', 'blue', 'green']\n",
    "    ax.bar(labels, counts, color=colours)\n",
    "    plt.show()\n",
    "\n",
    "print('Average negative score: {}'.format(np.average(robertas.negative)))\n",
    "print('Average neutral score: {}'.format(np.average(robertas.neutral)))\n",
    "print('Average positive score: {}'.format(np.average(robertas.positive)))\n",
    "plot_roberta_chart()\n",
    "plot_roberta_count_chart()"
   ]
  },
  {
   "cell_type": "code",
   "execution_count": null,
   "id": "b0b8af081be3d333",
   "metadata": {
    "ExecuteTime": {
     "start_time": "2024-07-17T20:32:01.891257Z"
    },
    "collapsed": false
   },
   "outputs": [],
   "source": []
  }
 ],
 "metadata": {
  "kernelspec": {
   "display_name": "Python 3",
   "language": "python",
   "name": "python3"
  },
  "language_info": {
   "codemirror_mode": {
    "name": "ipython",
    "version": 2
   },
   "file_extension": ".py",
   "mimetype": "text/x-python",
   "name": "python",
   "nbconvert_exporter": "python",
   "pygments_lexer": "ipython2",
   "version": "2.7.6"
  }
 },
 "nbformat": 4,
 "nbformat_minor": 5
}
